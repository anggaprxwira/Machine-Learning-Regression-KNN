{
 "cells": [
  {
   "cell_type": "code",
   "execution_count": 118,
   "id": "772b87ba",
   "metadata": {},
   "outputs": [],
   "source": [
    "import pandas as pd\n",
    "import numpy as np\n",
    "import seaborn as sns\n",
    "%matplotlib inline\n",
    "import matplotlib.pyplot as plt\n",
    "import math"
   ]
  },
  {
   "cell_type": "markdown",
   "id": "687b3368",
   "metadata": {},
   "source": [
    "- import \n",
    "Berguna untuk mengambil library yang tersedia pada Jupyter\n",
    "- pandas\n",
    "Library ini berguna dalam manipulasi data, menulis & membaca data,analisis, membuang data yang terdapat pada dataset, serta menampilkan data dalam bentuk gambar/grafik\n",
    "- seaborn\n",
    "Seaborn berfungsi untuk menampilkan visualisasi data, dalam kasus ini saya menggunakan seaborn dalam menampilkan data asli maupun data prediksi\n",
    "- %matplotlib inline\n",
    "- import matplotlib.pyplot as plt\n",
    "Berfungsi untuk memaksukan data yang sudah dibuat ke pada library pandas, serta bisa untuk membuat interface yang interaktif\n",
    "- math\n",
    "Berguna agar kita bisa melakukan perhitungan pada Data, contohnya pada In [17]"
   ]
  },
  {
   "cell_type": "code",
   "execution_count": 119,
   "id": "e284e14f",
   "metadata": {},
   "outputs": [
    {
     "data": {
      "text/html": [
       "<div>\n",
       "<style scoped>\n",
       "    .dataframe tbody tr th:only-of-type {\n",
       "        vertical-align: middle;\n",
       "    }\n",
       "\n",
       "    .dataframe tbody tr th {\n",
       "        vertical-align: top;\n",
       "    }\n",
       "\n",
       "    .dataframe thead th {\n",
       "        text-align: right;\n",
       "    }\n",
       "</style>\n",
       "<table border=\"1\" class=\"dataframe\">\n",
       "  <thead>\n",
       "    <tr style=\"text-align: right;\">\n",
       "      <th></th>\n",
       "      <th>Study Hours (X)</th>\n",
       "      <th>Exam Scores (Y)</th>\n",
       "    </tr>\n",
       "  </thead>\n",
       "  <tbody>\n",
       "    <tr>\n",
       "      <th>0</th>\n",
       "      <td>1.5</td>\n",
       "      <td>60</td>\n",
       "    </tr>\n",
       "    <tr>\n",
       "      <th>1</th>\n",
       "      <td>2.0</td>\n",
       "      <td>65</td>\n",
       "    </tr>\n",
       "    <tr>\n",
       "      <th>2</th>\n",
       "      <td>2.5</td>\n",
       "      <td>73</td>\n",
       "    </tr>\n",
       "    <tr>\n",
       "      <th>3</th>\n",
       "      <td>3.0</td>\n",
       "      <td>75</td>\n",
       "    </tr>\n",
       "    <tr>\n",
       "      <th>4</th>\n",
       "      <td>2.0</td>\n",
       "      <td>62</td>\n",
       "    </tr>\n",
       "    <tr>\n",
       "      <th>5</th>\n",
       "      <td>3.5</td>\n",
       "      <td>85</td>\n",
       "    </tr>\n",
       "    <tr>\n",
       "      <th>6</th>\n",
       "      <td>4.0</td>\n",
       "      <td>92</td>\n",
       "    </tr>\n",
       "    <tr>\n",
       "      <th>7</th>\n",
       "      <td>3.0</td>\n",
       "      <td>78</td>\n",
       "    </tr>\n",
       "    <tr>\n",
       "      <th>8</th>\n",
       "      <td>1.8</td>\n",
       "      <td>63</td>\n",
       "    </tr>\n",
       "    <tr>\n",
       "      <th>9</th>\n",
       "      <td>4.5</td>\n",
       "      <td>95</td>\n",
       "    </tr>\n",
       "    <tr>\n",
       "      <th>10</th>\n",
       "      <td>2.7</td>\n",
       "      <td>70</td>\n",
       "    </tr>\n",
       "    <tr>\n",
       "      <th>11</th>\n",
       "      <td>3.2</td>\n",
       "      <td>80</td>\n",
       "    </tr>\n",
       "    <tr>\n",
       "      <th>12</th>\n",
       "      <td>2.1</td>\n",
       "      <td>66</td>\n",
       "    </tr>\n",
       "    <tr>\n",
       "      <th>13</th>\n",
       "      <td>4.0</td>\n",
       "      <td>88</td>\n",
       "    </tr>\n",
       "    <tr>\n",
       "      <th>14</th>\n",
       "      <td>2.9</td>\n",
       "      <td>75</td>\n",
       "    </tr>\n",
       "    <tr>\n",
       "      <th>15</th>\n",
       "      <td>1.6</td>\n",
       "      <td>58</td>\n",
       "    </tr>\n",
       "    <tr>\n",
       "      <th>16</th>\n",
       "      <td>3.8</td>\n",
       "      <td>89</td>\n",
       "    </tr>\n",
       "    <tr>\n",
       "      <th>17</th>\n",
       "      <td>2.3</td>\n",
       "      <td>69</td>\n",
       "    </tr>\n",
       "    <tr>\n",
       "      <th>18</th>\n",
       "      <td>4.2</td>\n",
       "      <td>92</td>\n",
       "    </tr>\n",
       "    <tr>\n",
       "      <th>19</th>\n",
       "      <td>3.5</td>\n",
       "      <td>82</td>\n",
       "    </tr>\n",
       "    <tr>\n",
       "      <th>20</th>\n",
       "      <td>3.0</td>\n",
       "      <td>76</td>\n",
       "    </tr>\n",
       "    <tr>\n",
       "      <th>21</th>\n",
       "      <td>2.5</td>\n",
       "      <td>67</td>\n",
       "    </tr>\n",
       "    <tr>\n",
       "      <th>22</th>\n",
       "      <td>3.7</td>\n",
       "      <td>87</td>\n",
       "    </tr>\n",
       "    <tr>\n",
       "      <th>23</th>\n",
       "      <td>2.8</td>\n",
       "      <td>72</td>\n",
       "    </tr>\n",
       "    <tr>\n",
       "      <th>24</th>\n",
       "      <td>4.1</td>\n",
       "      <td>90</td>\n",
       "    </tr>\n",
       "    <tr>\n",
       "      <th>25</th>\n",
       "      <td>3.3</td>\n",
       "      <td>80</td>\n",
       "    </tr>\n",
       "    <tr>\n",
       "      <th>26</th>\n",
       "      <td>2.4</td>\n",
       "      <td>68</td>\n",
       "    </tr>\n",
       "    <tr>\n",
       "      <th>27</th>\n",
       "      <td>3.6</td>\n",
       "      <td>84</td>\n",
       "    </tr>\n",
       "    <tr>\n",
       "      <th>28</th>\n",
       "      <td>2.2</td>\n",
       "      <td>70</td>\n",
       "    </tr>\n",
       "    <tr>\n",
       "      <th>29</th>\n",
       "      <td>1.9</td>\n",
       "      <td>61</td>\n",
       "    </tr>\n",
       "    <tr>\n",
       "      <th>30</th>\n",
       "      <td>3.9</td>\n",
       "      <td>91</td>\n",
       "    </tr>\n",
       "    <tr>\n",
       "      <th>31</th>\n",
       "      <td>2.6</td>\n",
       "      <td>74</td>\n",
       "    </tr>\n",
       "    <tr>\n",
       "      <th>32</th>\n",
       "      <td>4.3</td>\n",
       "      <td>93</td>\n",
       "    </tr>\n",
       "    <tr>\n",
       "      <th>33</th>\n",
       "      <td>3.4</td>\n",
       "      <td>79</td>\n",
       "    </tr>\n",
       "    <tr>\n",
       "      <th>34</th>\n",
       "      <td>2.7</td>\n",
       "      <td>71</td>\n",
       "    </tr>\n",
       "    <tr>\n",
       "      <th>35</th>\n",
       "      <td>1.7</td>\n",
       "      <td>59</td>\n",
       "    </tr>\n",
       "    <tr>\n",
       "      <th>36</th>\n",
       "      <td>4.4</td>\n",
       "      <td>94</td>\n",
       "    </tr>\n",
       "    <tr>\n",
       "      <th>37</th>\n",
       "      <td>3.2</td>\n",
       "      <td>77</td>\n",
       "    </tr>\n",
       "    <tr>\n",
       "      <th>38</th>\n",
       "      <td>2.0</td>\n",
       "      <td>61</td>\n",
       "    </tr>\n",
       "    <tr>\n",
       "      <th>39</th>\n",
       "      <td>3.1</td>\n",
       "      <td>84</td>\n",
       "    </tr>\n",
       "    <tr>\n",
       "      <th>40</th>\n",
       "      <td>2.3</td>\n",
       "      <td>66</td>\n",
       "    </tr>\n",
       "    <tr>\n",
       "      <th>41</th>\n",
       "      <td>4.0</td>\n",
       "      <td>89</td>\n",
       "    </tr>\n",
       "    <tr>\n",
       "      <th>42</th>\n",
       "      <td>3.7</td>\n",
       "      <td>73</td>\n",
       "    </tr>\n",
       "    <tr>\n",
       "      <th>43</th>\n",
       "      <td>2.5</td>\n",
       "      <td>63</td>\n",
       "    </tr>\n",
       "    <tr>\n",
       "      <th>44</th>\n",
       "      <td>4.1</td>\n",
       "      <td>95</td>\n",
       "    </tr>\n",
       "    <tr>\n",
       "      <th>45</th>\n",
       "      <td>3.0</td>\n",
       "      <td>78</td>\n",
       "    </tr>\n",
       "    <tr>\n",
       "      <th>46</th>\n",
       "      <td>1.8</td>\n",
       "      <td>68</td>\n",
       "    </tr>\n",
       "    <tr>\n",
       "      <th>47</th>\n",
       "      <td>4.5</td>\n",
       "      <td>91</td>\n",
       "    </tr>\n",
       "    <tr>\n",
       "      <th>48</th>\n",
       "      <td>3.3</td>\n",
       "      <td>70</td>\n",
       "    </tr>\n",
       "    <tr>\n",
       "      <th>49</th>\n",
       "      <td>2.2</td>\n",
       "      <td>76</td>\n",
       "    </tr>\n",
       "  </tbody>\n",
       "</table>\n",
       "</div>"
      ],
      "text/plain": [
       "    Study Hours (X)  Exam Scores (Y)\n",
       "0               1.5               60\n",
       "1               2.0               65\n",
       "2               2.5               73\n",
       "3               3.0               75\n",
       "4               2.0               62\n",
       "5               3.5               85\n",
       "6               4.0               92\n",
       "7               3.0               78\n",
       "8               1.8               63\n",
       "9               4.5               95\n",
       "10              2.7               70\n",
       "11              3.2               80\n",
       "12              2.1               66\n",
       "13              4.0               88\n",
       "14              2.9               75\n",
       "15              1.6               58\n",
       "16              3.8               89\n",
       "17              2.3               69\n",
       "18              4.2               92\n",
       "19              3.5               82\n",
       "20              3.0               76\n",
       "21              2.5               67\n",
       "22              3.7               87\n",
       "23              2.8               72\n",
       "24              4.1               90\n",
       "25              3.3               80\n",
       "26              2.4               68\n",
       "27              3.6               84\n",
       "28              2.2               70\n",
       "29              1.9               61\n",
       "30              3.9               91\n",
       "31              2.6               74\n",
       "32              4.3               93\n",
       "33              3.4               79\n",
       "34              2.7               71\n",
       "35              1.7               59\n",
       "36              4.4               94\n",
       "37              3.2               77\n",
       "38              2.0               61\n",
       "39              3.1               84\n",
       "40              2.3               66\n",
       "41              4.0               89\n",
       "42              3.7               73\n",
       "43              2.5               63\n",
       "44              4.1               95\n",
       "45              3.0               78\n",
       "46              1.8               68\n",
       "47              4.5               91\n",
       "48              3.3               70\n",
       "49              2.2               76"
      ]
     },
     "execution_count": 119,
     "metadata": {},
     "output_type": "execute_result"
    }
   ],
   "source": [
    "data = pd.read_csv('R01_students_performance.csv')\n",
    "data"
   ]
  },
  {
   "cell_type": "markdown",
   "id": "5a96e2ad",
   "metadata": {},
   "source": [
    "Command ini, berguna untuk mengambil file \"R01_students_performance.csv\" yang sudah ditaruh dalam 1 folder dengan file jupyter yang sedang digunakan sekaran. Dan juga command \"data\" berguna untuk menampilkan data yang sudah kita ambil tersebut"
   ]
  },
  {
   "cell_type": "code",
   "execution_count": 120,
   "id": "cdb3172d",
   "metadata": {},
   "outputs": [
    {
     "data": {
      "text/html": [
       "<div>\n",
       "<style scoped>\n",
       "    .dataframe tbody tr th:only-of-type {\n",
       "        vertical-align: middle;\n",
       "    }\n",
       "\n",
       "    .dataframe tbody tr th {\n",
       "        vertical-align: top;\n",
       "    }\n",
       "\n",
       "    .dataframe thead th {\n",
       "        text-align: right;\n",
       "    }\n",
       "</style>\n",
       "<table border=\"1\" class=\"dataframe\">\n",
       "  <thead>\n",
       "    <tr style=\"text-align: right;\">\n",
       "      <th></th>\n",
       "      <th>Study Hours (X)</th>\n",
       "      <th>Exam Scores (Y)</th>\n",
       "    </tr>\n",
       "  </thead>\n",
       "  <tbody>\n",
       "    <tr>\n",
       "      <th>0</th>\n",
       "      <td>1.5</td>\n",
       "      <td>60</td>\n",
       "    </tr>\n",
       "    <tr>\n",
       "      <th>1</th>\n",
       "      <td>2.0</td>\n",
       "      <td>65</td>\n",
       "    </tr>\n",
       "    <tr>\n",
       "      <th>2</th>\n",
       "      <td>2.5</td>\n",
       "      <td>73</td>\n",
       "    </tr>\n",
       "    <tr>\n",
       "      <th>3</th>\n",
       "      <td>3.0</td>\n",
       "      <td>75</td>\n",
       "    </tr>\n",
       "    <tr>\n",
       "      <th>4</th>\n",
       "      <td>2.0</td>\n",
       "      <td>62</td>\n",
       "    </tr>\n",
       "  </tbody>\n",
       "</table>\n",
       "</div>"
      ],
      "text/plain": [
       "   Study Hours (X)  Exam Scores (Y)\n",
       "0              1.5               60\n",
       "1              2.0               65\n",
       "2              2.5               73\n",
       "3              3.0               75\n",
       "4              2.0               62"
      ]
     },
     "execution_count": 120,
     "metadata": {},
     "output_type": "execute_result"
    }
   ],
   "source": [
    "data.head()"
   ]
  },
  {
   "cell_type": "markdown",
   "id": "51f134c1",
   "metadata": {},
   "source": [
    "Berguna untuk menampilkan 5 data teratas dalam dataset, pada () bisa kita tambahkan angka tergantung seberapa banyak data yang ingin ditampilkan"
   ]
  },
  {
   "cell_type": "code",
   "execution_count": 121,
   "id": "67fa6e78",
   "metadata": {},
   "outputs": [
    {
     "data": {
      "text/html": [
       "<div>\n",
       "<style scoped>\n",
       "    .dataframe tbody tr th:only-of-type {\n",
       "        vertical-align: middle;\n",
       "    }\n",
       "\n",
       "    .dataframe tbody tr th {\n",
       "        vertical-align: top;\n",
       "    }\n",
       "\n",
       "    .dataframe thead th {\n",
       "        text-align: right;\n",
       "    }\n",
       "</style>\n",
       "<table border=\"1\" class=\"dataframe\">\n",
       "  <thead>\n",
       "    <tr style=\"text-align: right;\">\n",
       "      <th></th>\n",
       "      <th>Study Hours (X)</th>\n",
       "      <th>Exam Scores (Y)</th>\n",
       "    </tr>\n",
       "  </thead>\n",
       "  <tbody>\n",
       "    <tr>\n",
       "      <th>45</th>\n",
       "      <td>3.0</td>\n",
       "      <td>78</td>\n",
       "    </tr>\n",
       "    <tr>\n",
       "      <th>46</th>\n",
       "      <td>1.8</td>\n",
       "      <td>68</td>\n",
       "    </tr>\n",
       "    <tr>\n",
       "      <th>47</th>\n",
       "      <td>4.5</td>\n",
       "      <td>91</td>\n",
       "    </tr>\n",
       "    <tr>\n",
       "      <th>48</th>\n",
       "      <td>3.3</td>\n",
       "      <td>70</td>\n",
       "    </tr>\n",
       "    <tr>\n",
       "      <th>49</th>\n",
       "      <td>2.2</td>\n",
       "      <td>76</td>\n",
       "    </tr>\n",
       "  </tbody>\n",
       "</table>\n",
       "</div>"
      ],
      "text/plain": [
       "    Study Hours (X)  Exam Scores (Y)\n",
       "45              3.0               78\n",
       "46              1.8               68\n",
       "47              4.5               91\n",
       "48              3.3               70\n",
       "49              2.2               76"
      ]
     },
     "execution_count": 121,
     "metadata": {},
     "output_type": "execute_result"
    }
   ],
   "source": [
    "data.tail()"
   ]
  },
  {
   "cell_type": "markdown",
   "id": "12e23299",
   "metadata": {},
   "source": [
    "Berguna untuk menampilkan 5 data terbawah dalam dataset, pada () bisa kita tambahkan angka tergantung seberapa banyak data yang ingin ditampilkan"
   ]
  },
  {
   "cell_type": "code",
   "execution_count": 122,
   "id": "ae407f67",
   "metadata": {},
   "outputs": [
    {
     "name": "stdout",
     "output_type": "stream",
     "text": [
      "Jumlah dataset yang dimiliki : 50\n"
     ]
    }
   ],
   "source": [
    "print(\"Jumlah dataset yang dimiliki : \"+str(len(data.index)))"
   ]
  },
  {
   "cell_type": "markdown",
   "id": "d9d51eba",
   "metadata": {},
   "source": [
    "Command ini berguna untuk menghitung jumlah data yang terdapat pada dataset yang kita panggil sebelumnya"
   ]
  },
  {
   "cell_type": "code",
   "execution_count": 123,
   "id": "39db7079",
   "metadata": {},
   "outputs": [
    {
     "data": {
      "text/html": [
       "<div>\n",
       "<style scoped>\n",
       "    .dataframe tbody tr th:only-of-type {\n",
       "        vertical-align: middle;\n",
       "    }\n",
       "\n",
       "    .dataframe tbody tr th {\n",
       "        vertical-align: top;\n",
       "    }\n",
       "\n",
       "    .dataframe thead th {\n",
       "        text-align: right;\n",
       "    }\n",
       "</style>\n",
       "<table border=\"1\" class=\"dataframe\">\n",
       "  <thead>\n",
       "    <tr style=\"text-align: right;\">\n",
       "      <th></th>\n",
       "      <th>Study Hours (X)</th>\n",
       "      <th>Exam Scores (Y)</th>\n",
       "    </tr>\n",
       "  </thead>\n",
       "  <tbody>\n",
       "    <tr>\n",
       "      <th>count</th>\n",
       "      <td>50.000000</td>\n",
       "      <td>50.000000</td>\n",
       "    </tr>\n",
       "    <tr>\n",
       "      <th>mean</th>\n",
       "      <td>3.006000</td>\n",
       "      <td>76.480000</td>\n",
       "    </tr>\n",
       "    <tr>\n",
       "      <th>std</th>\n",
       "      <td>0.860567</td>\n",
       "      <td>11.051346</td>\n",
       "    </tr>\n",
       "    <tr>\n",
       "      <th>min</th>\n",
       "      <td>1.500000</td>\n",
       "      <td>58.000000</td>\n",
       "    </tr>\n",
       "    <tr>\n",
       "      <th>25%</th>\n",
       "      <td>2.300000</td>\n",
       "      <td>68.000000</td>\n",
       "    </tr>\n",
       "    <tr>\n",
       "      <th>50%</th>\n",
       "      <td>3.000000</td>\n",
       "      <td>75.500000</td>\n",
       "    </tr>\n",
       "    <tr>\n",
       "      <th>75%</th>\n",
       "      <td>3.700000</td>\n",
       "      <td>86.500000</td>\n",
       "    </tr>\n",
       "    <tr>\n",
       "      <th>max</th>\n",
       "      <td>4.500000</td>\n",
       "      <td>95.000000</td>\n",
       "    </tr>\n",
       "  </tbody>\n",
       "</table>\n",
       "</div>"
      ],
      "text/plain": [
       "       Study Hours (X)  Exam Scores (Y)\n",
       "count        50.000000        50.000000\n",
       "mean          3.006000        76.480000\n",
       "std           0.860567        11.051346\n",
       "min           1.500000        58.000000\n",
       "25%           2.300000        68.000000\n",
       "50%           3.000000        75.500000\n",
       "75%           3.700000        86.500000\n",
       "max           4.500000        95.000000"
      ]
     },
     "execution_count": 123,
     "metadata": {},
     "output_type": "execute_result"
    }
   ],
   "source": [
    "data.describe()"
   ]
  },
  {
   "cell_type": "markdown",
   "id": "268d554b",
   "metadata": {},
   "source": [
    "Describe berfungsi untuk untuk mencari jumlah data,  nilai rata rata, standar deviasi, nilai minimum, nilai kuartil 25% - 75%, dan juga niai maximal dari dataset yang kita panggil"
   ]
  },
  {
   "cell_type": "code",
   "execution_count": 124,
   "id": "52c3f565",
   "metadata": {},
   "outputs": [
    {
     "name": "stdout",
     "output_type": "stream",
     "text": [
      "<class 'pandas.core.frame.DataFrame'>\n",
      "RangeIndex: 50 entries, 0 to 49\n",
      "Data columns (total 2 columns):\n",
      " #   Column           Non-Null Count  Dtype  \n",
      "---  ------           --------------  -----  \n",
      " 0   Study Hours (X)  50 non-null     float64\n",
      " 1   Exam Scores (Y)  50 non-null     int64  \n",
      "dtypes: float64(1), int64(1)\n",
      "memory usage: 932.0 bytes\n"
     ]
    }
   ],
   "source": [
    "data.info()"
   ]
  },
  {
   "cell_type": "markdown",
   "id": "31679991",
   "metadata": {},
   "source": [
    "Info berguna untuk memberikan informasi dari data yang kita akan gunakan, seperti berapa kolom dan apa saja yang ada dalam kolom tersebut dan juga tipe dari data tersebut serta memori yang digunakan"
   ]
  },
  {
   "cell_type": "code",
   "execution_count": 125,
   "id": "48e6162c",
   "metadata": {},
   "outputs": [
    {
     "name": "stdout",
     "output_type": "stream",
     "text": [
      "0      0\n",
      "1      5\n",
      "2     10\n",
      "3     15\n",
      "4      5\n",
      "5     20\n",
      "6     25\n",
      "7     15\n",
      "8      3\n",
      "9     30\n",
      "10    12\n",
      "11    17\n",
      "12     6\n",
      "13    25\n",
      "14    14\n",
      "15     1\n",
      "16    23\n",
      "17     8\n",
      "18    27\n",
      "19    20\n",
      "20    15\n",
      "21    10\n",
      "22    22\n",
      "23    13\n",
      "24    26\n",
      "25    18\n",
      "26     9\n",
      "27    21\n",
      "28     7\n",
      "29     4\n",
      "30    24\n",
      "31    11\n",
      "32    28\n",
      "33    19\n",
      "34    12\n",
      "35     2\n",
      "36    29\n",
      "37    17\n",
      "38     5\n",
      "39    16\n",
      "40     8\n",
      "41    25\n",
      "42    22\n",
      "43    10\n",
      "44    26\n",
      "45    15\n",
      "46     3\n",
      "47    30\n",
      "48    18\n",
      "49     7\n",
      "Name: Study Hours (X), dtype: int64 0     60\n",
      "1     65\n",
      "2     73\n",
      "3     75\n",
      "4     62\n",
      "5     85\n",
      "6     92\n",
      "7     78\n",
      "8     63\n",
      "9     95\n",
      "10    70\n",
      "11    80\n",
      "12    66\n",
      "13    88\n",
      "14    75\n",
      "15    58\n",
      "16    89\n",
      "17    69\n",
      "18    92\n",
      "19    82\n",
      "20    76\n",
      "21    67\n",
      "22    87\n",
      "23    72\n",
      "24    90\n",
      "25    80\n",
      "26    68\n",
      "27    84\n",
      "28    70\n",
      "29    61\n",
      "30    91\n",
      "31    74\n",
      "32    93\n",
      "33    79\n",
      "34    71\n",
      "35    59\n",
      "36    94\n",
      "37    77\n",
      "38    61\n",
      "39    84\n",
      "40    66\n",
      "41    89\n",
      "42    73\n",
      "43    63\n",
      "44    95\n",
      "45    78\n",
      "46    68\n",
      "47    91\n",
      "48    70\n",
      "49    76\n",
      "Name: Exam Scores (Y), dtype: int64\n",
      "0      0\n",
      "1      5\n",
      "2     10\n",
      "3     15\n",
      "4      5\n",
      "5     20\n",
      "6     25\n",
      "7     15\n",
      "8      3\n",
      "9     30\n",
      "10    12\n",
      "11    17\n",
      "12     6\n",
      "13    25\n",
      "14    14\n",
      "15     1\n",
      "16    23\n",
      "17     8\n",
      "18    27\n",
      "19    20\n",
      "20    15\n",
      "21    10\n",
      "22    22\n",
      "23    13\n",
      "24    26\n",
      "25    18\n",
      "26     9\n",
      "27    21\n",
      "28     7\n",
      "29     4\n",
      "30    24\n",
      "31    11\n",
      "32    28\n",
      "33    19\n",
      "34    12\n",
      "35     2\n",
      "36    29\n",
      "37    17\n",
      "38     5\n",
      "39    16\n",
      "40     8\n",
      "41    25\n",
      "42    22\n",
      "43    10\n",
      "44    26\n",
      "45    15\n",
      "46     3\n",
      "47    30\n",
      "48    18\n",
      "49     7\n",
      "Name: Study Hours (X), dtype: int64 0      2\n",
      "1      6\n",
      "2     14\n",
      "3     16\n",
      "4      4\n",
      "5     24\n",
      "6     30\n",
      "7     19\n",
      "8      5\n",
      "9     33\n",
      "10    11\n",
      "11    21\n",
      "12     7\n",
      "13    26\n",
      "14    16\n",
      "15     0\n",
      "16    27\n",
      "17    10\n",
      "18    30\n",
      "19    22\n",
      "20    17\n",
      "21     8\n",
      "22    25\n",
      "23    13\n",
      "24    28\n",
      "25    21\n",
      "26     9\n",
      "27    23\n",
      "28    11\n",
      "29     3\n",
      "30    29\n",
      "31    15\n",
      "32    31\n",
      "33    20\n",
      "34    12\n",
      "35     1\n",
      "36    32\n",
      "37    18\n",
      "38     3\n",
      "39    23\n",
      "40     7\n",
      "41    27\n",
      "42    14\n",
      "43     5\n",
      "44    33\n",
      "45    19\n",
      "46     9\n",
      "47    29\n",
      "48    11\n",
      "49    17\n",
      "Name: Exam Scores (Y), dtype: int64\n"
     ]
    }
   ],
   "source": [
    "from sklearn.preprocessing import LabelEncoder\n",
    "for col in ['Study Hours (X)', 'Exam Scores (Y)']:\n",
    "    le = LabelEncoder()\n",
    "    data[col] = le.fit_transform(data[col])\n",
    "    data\n",
    "    print (data['Study Hours (X)'], data['Exam Scores (Y)'])"
   ]
  },
  {
   "cell_type": "code",
   "execution_count": 126,
   "id": "0180ced8",
   "metadata": {},
   "outputs": [],
   "source": [
    "x = data.drop('Study Hours (X)', axis = 1)\n",
    "y = data['Exam Scores (Y)']"
   ]
  },
  {
   "cell_type": "markdown",
   "id": "862d6d6e",
   "metadata": {},
   "source": [
    "x = data.drop('Study Hours (X)', axis = 1)\n",
    "berfungsi menentukan nilai X yaitu Study Hours dan menghilangkan kolomnya sebanyak 1\n",
    "\n",
    "y = data['Exam Scores (Y)']\n",
    "Berfungsi untuk menentukan nilai Y"
   ]
  },
  {
   "cell_type": "code",
   "execution_count": 127,
   "id": "37bae3f5",
   "metadata": {},
   "outputs": [
    {
     "data": {
      "image/png": "[encoded data removed]",
      "text/plain": [
       "<Figure size 640x480 with 1 Axes>"
      ]
     },
     "metadata": {},
     "output_type": "display_data"
    }
   ],
   "source": [
    "data.plot(x = 'Study Hours (X)', y = 'Exam Scores (Y)', style = 'o')\n",
    "plt.title('Data Berdasarkan dari Jam belajar dan Score Ujian')\n",
    "plt.xlabel('Study Hours')\n",
    "plt.ylabel('Exam Scores')\n",
    "plt.show()"
   ]
  },
  {
   "cell_type": "markdown",
   "id": "f9c83ce9",
   "metadata": {},
   "source": [
    "- data.plot\n",
    "Berguna untuk menentukan titik x dan titik y yang nantinya akan kita tampilkan pada grafik serta memberikan desain pada grafik tersebut\n",
    "- plt.title\n",
    "Berguna untuk memberikan judul dari grafik yang kita buat\n",
    "- plt.xlabel\n",
    "Berguna untuk memberikan data yang akan kita isi pada tiktik x\n",
    "- plt.ylabel\n",
    "Berguna untuk memberikan data yang akan kita isi pada tiktik y\n",
    "- plt.show()\n",
    "Berfungsi untuk menampilkan grafik yang sudah kita setting sebelumnnya"
   ]
  },
  {
   "cell_type": "code",
   "execution_count": 128,
   "id": "e4969b76",
   "metadata": {},
   "outputs": [],
   "source": [
    "x = data.iloc[:, :-1].values\n",
    "y = data.iloc[:, 1].values"
   ]
  },
  {
   "cell_type": "markdown",
   "id": "deca37b2",
   "metadata": {},
   "source": [
    "Command ini berfungsi untuk menentukan variabel yang terdapat pada sumbu x dan y"
   ]
  },
  {
   "cell_type": "code",
   "execution_count": 129,
   "id": "4986b7e4",
   "metadata": {},
   "outputs": [],
   "source": [
    "from sklearn.model_selection import train_test_split\n",
    "x_train, x_test, y_train, y_test = train_test_split(x, y, test_size=0.3, random_state=0)"
   ]
  },
  {
   "cell_type": "markdown",
   "id": "c5f4d60d",
   "metadata": {},
   "source": [
    "Command ini, kita membagi data tersebut menjadi 2 (data untuk testing dan data untuk dilatih)\n",
    "pada command ini juga kita mengatur ukuran data yang dipakai untuk testing."
   ]
  },
  {
   "cell_type": "code",
   "execution_count": 130,
   "id": "b5131dc2",
   "metadata": {},
   "outputs": [],
   "source": [
    "from sklearn.naive_bayes import GaussianNB\n",
    "model_Nb = GaussianNB()\n",
    "model_Nb = model_Nb.fit(x_train, y_train)"
   ]
  },
  {
   "cell_type": "markdown",
   "id": "7632f786",
   "metadata": {},
   "source": [
    "Command ini berfungsi untuk mengimport library GaussianNB dan menamai library tersebut menjadi model_Nb\n",
    "model_Nb ini akan mengambil nilai pada x_train dan y_train"
   ]
  },
  {
   "cell_type": "code",
   "execution_count": 131,
   "id": "c0aadd97",
   "metadata": {},
   "outputs": [],
   "source": [
    "predict = model_Nb.predict(x_test)"
   ]
  },
  {
   "cell_type": "markdown",
   "id": "f4305d22",
   "metadata": {},
   "source": [
    "Command ini berfungsi untuk memprediksi nilai pada data x_test"
   ]
  },
  {
   "cell_type": "code",
   "execution_count": 132,
   "id": "303eda85",
   "metadata": {},
   "outputs": [
    {
     "name": "stdout",
     "output_type": "stream",
     "text": [
      "Akurasi scorenya sebesar :  0.0\n"
     ]
    }
   ],
   "source": [
    "from sklearn.metrics import accuracy_score\n",
    "print (\"Akurasi scorenya sebesar : \", accuracy_score(y_test, predict)*100)"
   ]
  },
  {
   "cell_type": "markdown",
   "id": "e326f712",
   "metadata": {},
   "source": [
    "Berfungsi untuk mengimport library accuracy_score pada skcith learn dan menampilkan total akurasi berdasarkan data y_test dan predict pada x_test lalu di x 100 karena kalau tidak akan menjadi desimal"
   ]
  },
  {
   "cell_type": "code",
   "execution_count": 133,
   "id": "b76e3cca",
   "metadata": {},
   "outputs": [
    {
     "data": {
      "text/html": [
       "<style>#sk-container-id-8 {color: black;}#sk-container-id-8 pre{padding: 0;}#sk-container-id-8 div.sk-toggleable {background-color: white;}#sk-container-id-8 label.sk-toggleable__label {cursor: pointer;display: block;width: 100%;margin-bottom: 0;padding: 0.3em;box-sizing: border-box;text-align: center;}#sk-container-id-8 label.sk-toggleable__label-arrow:before {content: \"▸\";float: left;margin-right: 0.25em;color: #696969;}#sk-container-id-8 label.sk-toggleable__label-arrow:hover:before {color: black;}#sk-container-id-8 div.sk-estimator:hover label.sk-toggleable__label-arrow:before {color: black;}#sk-container-id-8 div.sk-toggleable__content {max-height: 0;max-width: 0;overflow: hidden;text-align: left;background-color: #f0f8ff;}#sk-container-id-8 div.sk-toggleable__content pre {margin: 0.2em;color: black;border-radius: 0.25em;background-color: #f0f8ff;}#sk-container-id-8 input.sk-toggleable__control:checked~div.sk-toggleable__content {max-height: 200px;max-width: 100%;overflow: auto;}#sk-container-id-8 input.sk-toggleable__control:checked~label.sk-toggleable__label-arrow:before {content: \"▾\";}#sk-container-id-8 div.sk-estimator input.sk-toggleable__control:checked~label.sk-toggleable__label {background-color: #d4ebff;}#sk-container-id-8 div.sk-label input.sk-toggleable__control:checked~label.sk-toggleable__label {background-color: #d4ebff;}#sk-container-id-8 input.sk-hidden--visually {border: 0;clip: rect(1px 1px 1px 1px);clip: rect(1px, 1px, 1px, 1px);height: 1px;margin: -1px;overflow: hidden;padding: 0;position: absolute;width: 1px;}#sk-container-id-8 div.sk-estimator {font-family: monospace;background-color: #f0f8ff;border: 1px dotted black;border-radius: 0.25em;box-sizing: border-box;margin-bottom: 0.5em;}#sk-container-id-8 div.sk-estimator:hover {background-color: #d4ebff;}#sk-container-id-8 div.sk-parallel-item::after {content: \"\";width: 100%;border-bottom: 1px solid gray;flex-grow: 1;}#sk-container-id-8 div.sk-label:hover label.sk-toggleable__label {background-color: #d4ebff;}#sk-container-id-8 div.sk-serial::before {content: \"\";position: absolute;border-left: 1px solid gray;box-sizing: border-box;top: 0;bottom: 0;left: 50%;z-index: 0;}#sk-container-id-8 div.sk-serial {display: flex;flex-direction: column;align-items: center;background-color: white;padding-right: 0.2em;padding-left: 0.2em;position: relative;}#sk-container-id-8 div.sk-item {position: relative;z-index: 1;}#sk-container-id-8 div.sk-parallel {display: flex;align-items: stretch;justify-content: center;background-color: white;position: relative;}#sk-container-id-8 div.sk-item::before, #sk-container-id-8 div.sk-parallel-item::before {content: \"\";position: absolute;border-left: 1px solid gray;box-sizing: border-box;top: 0;bottom: 0;left: 50%;z-index: -1;}#sk-container-id-8 div.sk-parallel-item {display: flex;flex-direction: column;z-index: 1;position: relative;background-color: white;}#sk-container-id-8 div.sk-parallel-item:first-child::after {align-self: flex-end;width: 50%;}#sk-container-id-8 div.sk-parallel-item:last-child::after {align-self: flex-start;width: 50%;}#sk-container-id-8 div.sk-parallel-item:only-child::after {width: 0;}#sk-container-id-8 div.sk-dashed-wrapped {border: 1px dashed gray;margin: 0 0.4em 0.5em 0.4em;box-sizing: border-box;padding-bottom: 0.4em;background-color: white;}#sk-container-id-8 div.sk-label label {font-family: monospace;font-weight: bold;display: inline-block;line-height: 1.2em;}#sk-container-id-8 div.sk-label-container {text-align: center;}#sk-container-id-8 div.sk-container {/* jupyter's `normalize.less` sets `[hidden] { display: none; }` but bootstrap.min.css set `[hidden] { display: none !important; }` so we also need the `!important` here to be able to override the default hidden behavior on the sphinx rendered scikit-learn.org. See: https://github.com/scikit-learn/scikit-learn/issues/21755 */display: inline-block !important;position: relative;}#sk-container-id-8 div.sk-text-repr-fallback {display: none;}</style><div id=\"sk-container-id-8\" class=\"sk-top-container\"><div class=\"sk-text-repr-fallback\"><pre>LinearRegression()</pre><b>In a Jupyter environment, please rerun this cell to show the HTML representation or trust the notebook. <br />On GitHub, the HTML representation is unable to render, please try loading this page with nbviewer.org.</b></div><div class=\"sk-container\" hidden><div class=\"sk-item\"><div class=\"sk-estimator sk-toggleable\"><input class=\"sk-toggleable__control sk-hidden--visually\" id=\"sk-estimator-id-8\" type=\"checkbox\" checked><label for=\"sk-estimator-id-8\" class=\"sk-toggleable__label sk-toggleable__label-arrow\">LinearRegression</label><div class=\"sk-toggleable__content\"><pre>LinearRegression()</pre></div></div></div></div></div>"
      ],
      "text/plain": [
       "LinearRegression()"
      ]
     },
     "execution_count": 133,
     "metadata": {},
     "output_type": "execute_result"
    }
   ],
   "source": [
    "from sklearn.linear_model import LinearRegression \n",
    "regressor = LinearRegression()\n",
    "regressor.fit(x_train, y_train)"
   ]
  },
  {
   "cell_type": "markdown",
   "id": "a4305d4d",
   "metadata": {},
   "source": [
    "Command diatas berfungsi untuk mengimport library LinearRegression dari sklear (bisa dilakukan pada in[1]) nantinya LinearRegression kita gunakan untuk menggunakan objek regressor dan kita buat model regresi untuk melatih x_train dan y_train"
   ]
  },
  {
   "cell_type": "code",
   "execution_count": 134,
   "id": "e2dd605b",
   "metadata": {},
   "outputs": [
    {
     "name": "stdout",
     "output_type": "stream",
     "text": [
      "1.157002005347593\n"
     ]
    }
   ],
   "source": [
    "print(regressor.intercept_)"
   ]
  },
  {
   "cell_type": "markdown",
   "id": "f9e33424",
   "metadata": {},
   "source": [
    "Berguna untuk mencari nilai perpotongan(garis) pada regresi"
   ]
  },
  {
   "cell_type": "code",
   "execution_count": 135,
   "id": "54de3045",
   "metadata": {},
   "outputs": [
    {
     "name": "stdout",
     "output_type": "stream",
     "text": [
      "[1.0373496]\n"
     ]
    }
   ],
   "source": [
    "print(regressor.coef_)"
   ]
  },
  {
   "cell_type": "raw",
   "id": "4fc57612",
   "metadata": {},
   "source": [
    "Digunakan untuk mencari koefisien pada variabel X pada garis regresi"
   ]
  },
  {
   "cell_type": "code",
   "execution_count": 136,
   "id": "2f45b417",
   "metadata": {},
   "outputs": [
    {
     "data": {
      "text/plain": [
       "3.7503760053475927"
      ]
     },
     "execution_count": 136,
     "metadata": {},
     "output_type": "execute_result"
    }
   ],
   "source": [
    "#Intercept + coef * 3.3 Study Hours\n",
    "1.157002005347593 + 1.0373496 * 2.5"
   ]
  },
  {
   "cell_type": "markdown",
   "id": "404b02c2",
   "metadata": {},
   "source": [
    "Perhitungan diatas berguna untuk mencari prediksi seberapa ke-efektifan pembelajaran yang dilakukan berdasarkan 5 data teratas secara manual"
   ]
  },
  {
   "cell_type": "code",
   "execution_count": 137,
   "id": "ad4f2407",
   "metadata": {},
   "outputs": [],
   "source": [
    "y_pred = regressor.predict(x_test)"
   ]
  },
  {
   "cell_type": "markdown",
   "id": "7c466eab",
   "metadata": {},
   "source": [
    "Command ini berguna untuk mencari prediksi ke-efektifan pembelajaran secara otomatis"
   ]
  },
  {
   "cell_type": "code",
   "execution_count": 138,
   "id": "46a9e8be",
   "metadata": {},
   "outputs": [
    {
     "data": {
      "text/html": [
       "<div>\n",
       "<style scoped>\n",
       "    .dataframe tbody tr th:only-of-type {\n",
       "        vertical-align: middle;\n",
       "    }\n",
       "\n",
       "    .dataframe tbody tr th {\n",
       "        vertical-align: top;\n",
       "    }\n",
       "\n",
       "    .dataframe thead th {\n",
       "        text-align: right;\n",
       "    }\n",
       "</style>\n",
       "<table border=\"1\" class=\"dataframe\">\n",
       "  <thead>\n",
       "    <tr style=\"text-align: right;\">\n",
       "      <th></th>\n",
       "      <th>Data Asli</th>\n",
       "      <th>Prediksi</th>\n",
       "    </tr>\n",
       "  </thead>\n",
       "  <tbody>\n",
       "    <tr>\n",
       "      <th>0</th>\n",
       "      <td>11</td>\n",
       "      <td>8.418449</td>\n",
       "    </tr>\n",
       "    <tr>\n",
       "      <th>1</th>\n",
       "      <td>21</td>\n",
       "      <td>18.791945</td>\n",
       "    </tr>\n",
       "    <tr>\n",
       "      <th>2</th>\n",
       "      <td>11</td>\n",
       "      <td>13.605197</td>\n",
       "    </tr>\n",
       "    <tr>\n",
       "      <th>3</th>\n",
       "      <td>27</td>\n",
       "      <td>27.090742</td>\n",
       "    </tr>\n",
       "    <tr>\n",
       "      <th>4</th>\n",
       "      <td>14</td>\n",
       "      <td>11.530498</td>\n",
       "    </tr>\n",
       "    <tr>\n",
       "      <th>5</th>\n",
       "      <td>23</td>\n",
       "      <td>22.941344</td>\n",
       "    </tr>\n",
       "    <tr>\n",
       "      <th>6</th>\n",
       "      <td>3</td>\n",
       "      <td>6.343750</td>\n",
       "    </tr>\n",
       "    <tr>\n",
       "      <th>7</th>\n",
       "      <td>15</td>\n",
       "      <td>12.567848</td>\n",
       "    </tr>\n",
       "    <tr>\n",
       "      <th>8</th>\n",
       "      <td>25</td>\n",
       "      <td>23.978693</td>\n",
       "    </tr>\n",
       "    <tr>\n",
       "      <th>9</th>\n",
       "      <td>4</td>\n",
       "      <td>6.343750</td>\n",
       "    </tr>\n",
       "    <tr>\n",
       "      <th>10</th>\n",
       "      <td>20</td>\n",
       "      <td>20.866644</td>\n",
       "    </tr>\n",
       "    <tr>\n",
       "      <th>11</th>\n",
       "      <td>1</td>\n",
       "      <td>3.231701</td>\n",
       "    </tr>\n",
       "    <tr>\n",
       "      <th>12</th>\n",
       "      <td>9</td>\n",
       "      <td>10.493148</td>\n",
       "    </tr>\n",
       "    <tr>\n",
       "      <th>13</th>\n",
       "      <td>12</td>\n",
       "      <td>13.605197</td>\n",
       "    </tr>\n",
       "    <tr>\n",
       "      <th>14</th>\n",
       "      <td>30</td>\n",
       "      <td>29.165441</td>\n",
       "    </tr>\n",
       "  </tbody>\n",
       "</table>\n",
       "</div>"
      ],
      "text/plain": [
       "    Data Asli   Prediksi\n",
       "0          11   8.418449\n",
       "1          21  18.791945\n",
       "2          11  13.605197\n",
       "3          27  27.090742\n",
       "4          14  11.530498\n",
       "5          23  22.941344\n",
       "6           3   6.343750\n",
       "7          15  12.567848\n",
       "8          25  23.978693\n",
       "9           4   6.343750\n",
       "10         20  20.866644\n",
       "11          1   3.231701\n",
       "12          9  10.493148\n",
       "13         12  13.605197\n",
       "14         30  29.165441"
      ]
     },
     "execution_count": 138,
     "metadata": {},
     "output_type": "execute_result"
    }
   ],
   "source": [
    "data = pd.DataFrame({'Data Asli' : y_test, 'Prediksi' : y_pred})\n",
    "data"
   ]
  },
  {
   "cell_type": "markdown",
   "id": "5915c669",
   "metadata": {},
   "source": [
    "Berguna untuk menampilkan dataframe prediksi berdasarkan data asli yang kita panggil tadi"
   ]
  },
  {
   "cell_type": "code",
   "execution_count": 139,
   "id": "8cb41e96",
   "metadata": {},
   "outputs": [
    {
     "name": "stderr",
     "output_type": "stream",
     "text": [
      "C:\\Users\\angga\\anaconda3\\Lib\\site-packages\\seaborn\\axisgrid.py:118: UserWarning: The figure layout has changed to tight\n",
      "  self._figure.tight_layout(*args, **kwargs)\n"
     ]
    },
    {
     "data": {
      "text/plain": [
       "<seaborn.axisgrid.PairGrid at 0x236bbc31710>"
      ]
     },
     "execution_count": 139,
     "metadata": {},
     "output_type": "execute_result"
    },
    {
     "data": {
      "image/png": "[encoded data removed]",
      "text/plain": [
       "<Figure size 500x500 with 6 Axes>"
      ]
     },
     "metadata": {},
     "output_type": "display_data"
    }
   ],
   "source": [
    "sns.pairplot(data)"
   ]
  },
  {
   "cell_type": "markdown",
   "id": "c76d3517",
   "metadata": {},
   "source": [
    "Disini merupakan fungsi dari seaborn, yaitu untuk membuat grafik berdasarkan data Student Performance"
   ]
  },
  {
   "cell_type": "code",
   "execution_count": 140,
   "id": "97cdf5ec",
   "metadata": {},
   "outputs": [
    {
     "data": {
      "image/png": "[encoded data removed]",
      "text/plain": [
       "<Figure size 640x480 with 1 Axes>"
      ]
     },
     "metadata": {},
     "output_type": "display_data"
    }
   ],
   "source": [
    "#Grafik berdasarkan dari hasil testing data\n",
    "plt.scatter(x_test, y_test, color = 'orange')\n",
    "plt.plot(x_train, regressor.predict(x_train), color = 'green')\n",
    "plt.title('Perbandingan Jam Belajar dengan Nilai Ujian')\n",
    "plt.xlabel('Study Hours')\n",
    "plt.ylabel('Exam Scores')\n",
    "plt.show()"
   ]
  },
  {
   "cell_type": "markdown",
   "id": "a4bf0076",
   "metadata": {},
   "source": [
    "- plt.Scatter\n",
    "merupakan command untuk memanggil desain scatter pada library matplotlib.pyplot serta memasukan data testing dari titik x & y dan pada saat grafiknya dimunculkan akan berwarna oranye\n",
    "- plt.plot\n",
    "berfungsi untuk mengambil data dari prediksi pada x_train, dan nantinya akan berwarna  hijau pada grafik yang kita tampilkan\n",
    "- plt.title\n",
    "memberikan judul pada grafik yang dibuat\n",
    "- plt.xlabel \n",
    "menentukan data x label pada grafik, yaitu \"Study Hours\"\n",
    "- plt.ylabel\n",
    "menentukan data y label pada grafik, yaitu \"Exam Scores\"\n",
    "- plt.show()\n",
    "berguna untuk menampilkan scatter yang sudah kita setting"
   ]
  },
  {
   "cell_type": "code",
   "execution_count": 141,
   "id": "a8212d13",
   "metadata": {},
   "outputs": [
    {
     "data": {
      "image/png": "[encoded data removed]",
      "text/plain": [
       "<Figure size 640x480 with 1 Axes>"
      ]
     },
     "metadata": {},
     "output_type": "display_data"
    }
   ],
   "source": [
    "#Gambaran berdasarkan hasil dari pelatihan data\n",
    "plt.scatter(x_train, y_train, color = 'orange')\n",
    "plt.plot(x_train, regressor.predict(x_train), color = 'green')\n",
    "plt.title('Perbandingan Jam Belajar dengan Nilai Ujian')\n",
    "plt.xlabel('Study Hours')\n",
    "plt.ylabel('Exam Scores')\n",
    "plt.show()"
   ]
  },
  {
   "cell_type": "markdown",
   "id": "07502d25",
   "metadata": {},
   "source": [
    "- plt.Scatter\n",
    "merupakan command untuk memanggil desain scatter pada library matplotlib.pyplot serta memasukan data latihan dari titik x & y dan pada saat grafiknya dimunculkan akan berwarna oranye\n",
    "- plt.plot\n",
    "berfungsi untuk mengambil data dari prediksi pada x_train, dan nantinya akan berwarna  hijau pada grafik yang kita tampilkan\n",
    "- plt.title\n",
    "memberikan judul pada grafik yang dibuat\n",
    "- plt.xlabel \n",
    "menentukan data x label pada grafik, yaitu \"Study Hours\"\n",
    "- plt.ylabel\n",
    "menentukan data y label pada grafik, yaitu \"Exam Scores\"\n",
    "- plt.show()\n",
    "berguna untuk menampilkan scatter yang sudah kita setting"
   ]
  }
 ],
 "metadata": {
  "kernelspec": {
   "display_name": "Python 3 (ipykernel)",
   "language": "python",
   "name": "python3"
  },
  "language_info": {
   "codemirror_mode": {
    "name": "ipython",
    "version": 3
   },
   "file_extension": ".py",
   "mimetype": "text/x-python",
   "name": "python",
   "nbconvert_exporter": "python",
   "pygments_lexer": "ipython3",
   "version": "3.11.5"
  }
 },
 "nbformat": 4,
 "nbformat_minor": 5
}
